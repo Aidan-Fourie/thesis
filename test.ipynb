{
 "cells": [
  {
   "cell_type": "code",
   "execution_count": null,
   "metadata": {},
   "outputs": [],
   "source": [
    "import pandas_datareader as pd2\n",
    "import pandas as pd\n",
    "import tensorflow\n",
    "import keras as ks\n",
    "from keras.layers import Dense,LSTM,Dropout\n",
    "from keras import regularizers\n",
    "from keras.callbacks import EarlyStopping\n",
    "import numpy as np\n",
    "from ipywidgets import interact,interact_manual"
   ]
  },
  {
   "cell_type": "code",
   "execution_count": null,
   "metadata": {},
   "outputs": [],
   "source": [
    "#WE DECLARE OUR CLASSES\n",
    "#THIS FUNCTION GETS, WINDOWS AND SPLITS INTO TEST/TRAIN\n",
    "class Data():\n",
    "    \n",
    "    def __init__(self,ticker,start,end):\n",
    "        self.data = pd2.DataReader(ticker,'yahoo', start, end).iloc[:,]\n",
    "        \n",
    "    def window(self,windows,col):\n",
    "        \n",
    "        #we sort the windowed array\n",
    "        windows = sorted(windows)\n",
    "\n",
    "        #we loop through the training data and restructure\n",
    "        for i in range(max(windows),self.data.count()[0]):\n",
    "\n",
    "            y_record = self.data.iloc[[i],:].loc[:,[col]]\n",
    "            x_record = self.data.iloc[[i-windows[0]],:].loc[:,[col]]\n",
    "            x_record.columns = str(windows[0]) + \"-\" + x_record.columns\n",
    "\n",
    "            if(len(windows)>1):\n",
    "\n",
    "                for j in range(1,len(windows)):\n",
    "                    x_temp   = self.data.iloc[[i-windows[j]],:].loc[:,[col]]\n",
    "                    x_temp.columns = str(windows[j]) + \"-\" + x_temp.columns\n",
    "                    x_record = pd.concat([x_record.reset_index(drop=True), x_temp.reset_index(drop=True)], axis=1)\n",
    "\n",
    "            if(i==max(windows)):\n",
    "                x_final = x_record\n",
    "                y_final = y_record\n",
    "            else:\n",
    "                x_final = x_final.append(x_record)\n",
    "                y_final = y_final.append(y_record)\n",
    "\n",
    "            self.features = x_final.set_index(y_final.index)\n",
    "            self.response = y_final\n",
    "            \n",
    "    def split_data(self,period):\n",
    "        self.test_features = self.features.iloc[self.features.count()[0]-period:self.features.count()[0],:]\n",
    "        self.train_features = self.features.iloc[0:self.features.count()[0]-period,:]\n",
    "        self.test_response = self.response.iloc[self.features.count()[0]-period:self.features.count()[0],:]\n",
    "        self.train_response = self.response.iloc[0:self.features.count()[0]-period,:]\n",
    "        self.data_train = self.data.iloc[0:self.data.count()[0]-period,:]\n",
    "        self.data_test =  self.data.iloc[self.data.count()[0]-period:self.data.count()[0],:]\n",
    "class NN():\n",
    "    \n",
    "    def __init__(self,neurons,activations):\n",
    "        self.neurons = neurons\n",
    "        self.activations = activations\n",
    "     \n",
    "    def create_model(self,dim,loss,optimizer):\n",
    "    \n",
    "        self.model = ks.Sequential()\n",
    "     \n",
    "        for i in range(0,len(self.neurons)):\n",
    "            neuron = self.neurons[i]\n",
    "            activation = self.activations[i]\n",
    "        \n",
    "            if(i == 0):\n",
    "                self.model.add(Dense(neuron,input_dim = dim,activation = activation))\n",
    "            else:\n",
    "                self.model.add(Dense(neuron,activation = activation))\n",
    "                \n",
    "        self.model.compile(loss=loss,optimizer=optimizer)"
   ]
  },
  {
   "cell_type": "markdown",
   "metadata": {},
   "source": [
    "Please select build your network"
   ]
  },
  {
   "cell_type": "code",
   "execution_count": null,
   "metadata": {},
   "outputs": [],
   "source": [
    "test = Data('GM','2005-05-05','2015-05-05')\n",
    "test.window(windows = [30,60],col = 'Open')\n",
    "test.split_data(300)"
   ]
  },
  {
   "cell_type": "code",
   "execution_count": null,
   "metadata": {},
   "outputs": [],
   "source": [
    "#we get our variables\n",
    "X = test.train_features\n",
    "Y = test.train_response.loc[:,'Open']\n",
    "\n",
    "#we specify the stop criteria\n",
    "Stop = EarlyStopping(monitor='val_loss', min_delta=0.0001, patience=50, verbose=1, mode='auto', baseline=None)"
   ]
  },
  {
   "cell_type": "code",
   "execution_count": null,
   "metadata": {},
   "outputs": [],
   "source": [
    "test_model = NN([100,100,10,1],['sigmoid','sigmoid','linear','linear'])\n",
    "test_model.create_model(dim=X.shape[1],loss='mse',optimizer='adam')\n",
    "\n",
    "hist = test_model.model.fit(X,Y,epochs=300,batch_size=2,verbose=0,callbacks=[Stop],validation_data = (test.test_features,test.test_response.loc[:,'Open']))\n"
   ]
  },
  {
   "cell_type": "code",
   "execution_count": null,
   "metadata": {},
   "outputs": [],
   "source": [
    "print('go')"
   ]
  },
  {
   "cell_type": "code",
   "execution_count": null,
   "metadata": {},
   "outputs": [],
   "source": [
    "\n",
    "def storage(lay,act):\n",
    "    global layers\n",
    "    global activations\n",
    "    \n",
    "    layers = lay\n",
    "    activations =act\n",
    "\n",
    "def NN_builder():\n",
    "    global layers\n",
    "    global activation\n",
    "\n",
    "    n = list(map(int,layers.split(\",\")))\n",
    "    a = activations.split(\",\")\n",
    "    test_model = NN(n,a)\n",
    "    test_model.create_model(dim=X.shape[1],loss='mse',optimizer='adam')\n",
    "    print(test_model.model.summary())\n",
    "\n",
    "interact(storage,lay=\"\",act='')    \n",
    "interact_manual(NN_builder)\n",
    "    "
   ]
  },
  {
   "cell_type": "code",
   "execution_count": null,
   "metadata": {},
   "outputs": [],
   "source": []
  },
  {
   "cell_type": "code",
   "execution_count": null,
   "metadata": {},
   "outputs": [],
   "source": []
  }
 ],
 "metadata": {
  "kernelspec": {
   "display_name": "Python 3",
   "language": "python",
   "name": "python3"
  },
  "language_info": {
   "codemirror_mode": {
    "name": "ipython",
    "version": 3
   },
   "file_extension": ".py",
   "mimetype": "text/x-python",
   "name": "python",
   "nbconvert_exporter": "python",
   "pygments_lexer": "ipython3",
   "version": "3.6.5"
  }
 },
 "nbformat": 4,
 "nbformat_minor": 2
}
