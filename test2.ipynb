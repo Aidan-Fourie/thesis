{
 "cells": [
  {
   "cell_type": "code",
   "execution_count": 13,
   "metadata": {},
   "outputs": [],
   "source": [
    "import pandas_datareader as pd2\n",
    "import pandas as pd\n",
    "import tensorflow\n",
    "import keras as ks\n",
    "import matplotlib.pyplot as mp\n",
    "from keras.layers import Dense,LSTM,Dropout\n",
    "from keras import regularizers\n",
    "from keras.callbacks import EarlyStopping\n",
    "import numpy as np\n",
    "from ipywidgets import interact,interact_manual"
   ]
  },
  {
   "cell_type": "code",
   "execution_count": 9,
   "metadata": {},
   "outputs": [],
   "source": [
    "#WE DECLARE OUR CLASSES\n",
    "#THIS FUNCTION GETS, WINDOWS AND SPLITS INTO TEST/TRAIN\n",
    "class Data():\n",
    "    \n",
    "    def __init__(self,ticker,start,end):\n",
    "        self.data = pd2.DataReader(ticker,'yahoo', start, end).iloc[:,]\n",
    "        \n",
    "    def window(self,windows,col):\n",
    "        \n",
    "        #we sort the windowed array\n",
    "        windows = sorted(windows)\n",
    "\n",
    "        #we loop through the training data and restructure\n",
    "        for i in range(max(windows),self.data.count()[0]):\n",
    "\n",
    "            y_record = self.data.iloc[[i],:].loc[:,[col]]\n",
    "            x_record = self.data.iloc[[i-windows[0]],:].loc[:,[col]]\n",
    "            x_record.columns = str(windows[0]) + \"-\" + x_record.columns\n",
    "\n",
    "            if(len(windows)>1):\n",
    "\n",
    "                for j in range(1,len(windows)):\n",
    "                    x_temp   = self.data.iloc[[i-windows[j]],:].loc[:,[col]]\n",
    "                    x_temp.columns = str(windows[j]) + \"-\" + x_temp.columns\n",
    "                    x_record = pd.concat([x_record.reset_index(drop=True), x_temp.reset_index(drop=True)], axis=1)\n",
    "\n",
    "            if(i==max(windows)):\n",
    "                x_final = x_record\n",
    "                y_final = y_record\n",
    "            else:\n",
    "                x_final = x_final.append(x_record)\n",
    "                y_final = y_final.append(y_record)\n",
    "\n",
    "            self.features = x_final.set_index(y_final.index)\n",
    "            self.response = y_final\n",
    "            \n",
    "    def split_data(self,period):\n",
    "        self.test_features = self.features.iloc[self.features.count()[0]-period:self.features.count()[0],:]\n",
    "        self.train_features = self.features.iloc[0:self.features.count()[0]-period,:]\n",
    "        self.test_response = self.response.iloc[self.features.count()[0]-period:self.features.count()[0],:]\n",
    "        self.train_response = self.response.iloc[0:self.features.count()[0]-period,:]\n",
    "        self.data_train = self.data.iloc[0:self.data.count()[0]-period,:]\n",
    "        self.data_test =  self.data.iloc[self.data.count()[0]-period:self.data.count()[0],:]\n",
    "\n",
    "class NN():\n",
    "    \n",
    "    def __init__(self,neurons,activations):\n",
    "        self.neurons = neurons\n",
    "        self.activations = activations\n",
    "     \n",
    "    def create_model(self,dim,loss,optimizer):\n",
    "    \n",
    "        self.model = ks.Sequential()\n",
    "     \n",
    "        for i in range(0,len(self.neurons)):\n",
    "            neuron = self.neurons[i]\n",
    "            activation = self.activations[i]\n",
    "        \n",
    "            if(i == 0):\n",
    "                self.model.add(Dense(neuron,input_dim = dim,activation = activation))\n",
    "            else:\n",
    "                self.model.add(Dense(neuron,activation = activation))\n",
    "                \n",
    "        self.model.compile(loss=loss,optimizer=optimizer)"
   ]
  },
  {
   "cell_type": "code",
   "execution_count": 5,
   "metadata": {},
   "outputs": [
    {
     "data": {
      "application/vnd.jupyter.widget-view+json": {
       "model_id": "0d8607bb1fca4abe85f7608910e50a37",
       "version_major": 2,
       "version_minor": 0
      },
      "text/plain": [
       "interactive(children=(Button(description='Run Interact', style=ButtonStyle()), Output()), _dom_classes=('widge…"
      ]
     },
     "metadata": {},
     "output_type": "display_data"
    },
    {
     "data": {
      "text/plain": [
       "<function __main__.test()>"
      ]
     },
     "execution_count": 5,
     "metadata": {},
     "output_type": "execute_result"
    }
   ],
   "source": [
    "a = False\n",
    "\n",
    "def test():\n",
    "    \n",
    "    global a\n",
    "    \n",
    "    if a == True:\n",
    "        print('Go1')\n",
    "        a = False\n",
    "    else:\n",
    "        print('Go2')\n",
    "        a = True\n",
    "    \n",
    "\n",
    "interact_manual(test)"
   ]
  },
  {
   "cell_type": "code",
   "execution_count": 14,
   "metadata": {},
   "outputs": [
    {
     "data": {
      "application/vnd.jupyter.widget-view+json": {
       "model_id": "9e63ad4afd814f77b42b28ecc60e442d",
       "version_major": 2,
       "version_minor": 0
      },
      "text/plain": [
       "interactive(children=(Button(description='Run Interact', style=ButtonStyle()), Output()), _dom_classes=('widge…"
      ]
     },
     "metadata": {},
     "output_type": "display_data"
    },
    {
     "data": {
      "text/plain": [
       "<function __main__.test2()>"
      ]
     },
     "execution_count": 14,
     "metadata": {},
     "output_type": "execute_result"
    }
   ],
   "source": [
    "def test2():\n",
    "    data = Data('AAPL','2012-05-05','2013-05-5')\n",
    "    line(data.data.loc[:,'Open'])\n",
    "\n",
    "interact_manual(test2)"
   ]
  }
 ],
 "metadata": {
  "kernelspec": {
   "display_name": "Python 3",
   "language": "python",
   "name": "python3"
  },
  "language_info": {
   "codemirror_mode": {
    "name": "ipython",
    "version": 3
   },
   "file_extension": ".py",
   "mimetype": "text/x-python",
   "name": "python",
   "nbconvert_exporter": "python",
   "pygments_lexer": "ipython3",
   "version": "3.6.5"
  }
 },
 "nbformat": 4,
 "nbformat_minor": 2
}
