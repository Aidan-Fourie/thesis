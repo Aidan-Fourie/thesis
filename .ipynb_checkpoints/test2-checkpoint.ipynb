{
 "cells": [
  {
   "cell_type": "markdown",
   "metadata": {},
   "source": [
    "# Neural Network Builder"
   ]
  },
  {
   "cell_type": "code",
   "execution_count": 48,
   "metadata": {},
   "outputs": [],
   "source": [
    "#nbi:hide_in\n",
    "import pandas_datareader as pd2\n",
    "import pandas as pd\n",
    "import tensorflow\n",
    "import keras as ks\n",
    "import matplotlib.pyplot as mp\n",
    "from matplotlib import animation\n",
    "from keras.layers import Dense,LSTM,Dropout\n",
    "from keras import regularizers\n",
    "from keras.callbacks import EarlyStopping,Callback\n",
    "import numpy as np\n",
    "from ipywidgets import interact,interact_manual"
   ]
  },
  {
   "cell_type": "code",
   "execution_count": 2,
   "metadata": {},
   "outputs": [],
   "source": [
    "#nbi:hide_in\n",
    "#WE DECLARE OUR CLASSES\n",
    "#THIS FUNCTION GETS, WINDOWS AND SPLITS INTO TEST/TRAIN\n",
    "class Data():\n",
    "    \n",
    "    def __init__(self,ticker,start,end):\n",
    "        self.data = pd2.DataReader(ticker,'yahoo', start, end).iloc[:,]\n",
    "        \n",
    "    def window(self,windows,col):\n",
    "        \n",
    "        #we sort the windowed array\n",
    "        windows = sorted(windows)\n",
    "\n",
    "        #we loop through the training data and restructure\n",
    "        for i in range(max(windows),self.data.count()[0]):\n",
    "\n",
    "            y_record = self.data.iloc[[i],:].loc[:,[col]]\n",
    "            x_record = self.data.iloc[[i-windows[0]],:].loc[:,[col]]\n",
    "            x_record.columns = str(windows[0]) + \"-\" + x_record.columns\n",
    "\n",
    "            if(len(windows)>1):\n",
    "\n",
    "                for j in range(1,len(windows)):\n",
    "                    x_temp   = self.data.iloc[[i-windows[j]],:].loc[:,[col]]\n",
    "                    x_temp.columns = str(windows[j]) + \"-\" + x_temp.columns\n",
    "                    x_record = pd.concat([x_record.reset_index(drop=True), x_temp.reset_index(drop=True)], axis=1)\n",
    "\n",
    "            if(i==max(windows)):\n",
    "                x_final = x_record\n",
    "                y_final = y_record\n",
    "            else:\n",
    "                x_final = x_final.append(x_record)\n",
    "                y_final = y_final.append(y_record)\n",
    "\n",
    "            self.features = x_final.set_index(y_final.index)\n",
    "            self.response = y_final\n",
    "            \n",
    "    def split_data(self,period):\n",
    "        self.test_features = self.features.iloc[self.features.count()[0]-period:self.features.count()[0],:]\n",
    "        self.train_features = self.features.iloc[0:self.features.count()[0]-period,:]\n",
    "        self.test_response = self.response.iloc[self.features.count()[0]-period:self.features.count()[0],:]\n",
    "        self.train_response = self.response.iloc[0:self.features.count()[0]-period,:]\n",
    "        self.data_train = self.data.iloc[0:self.data.count()[0]-period,:]\n",
    "        self.data_test =  self.data.iloc[self.data.count()[0]-period:self.data.count()[0],:]\n",
    "\n",
    "class NN():\n",
    "    \n",
    "    def __init__(self,neurons,activations):\n",
    "        self.neurons = neurons\n",
    "        self.activations = activations\n",
    "     \n",
    "    def create_model(self,dim,loss,optimizer):\n",
    "    \n",
    "        self.model = ks.Sequential()\n",
    "     \n",
    "        for i in range(0,len(self.neurons)):\n",
    "            neuron = self.neurons[i]\n",
    "            activation = self.activations[i]\n",
    "        \n",
    "            if(i == 0):\n",
    "                self.model.add(Dense(neuron,input_dim = dim,activation = activation))\n",
    "            else:\n",
    "                self.model.add(Dense(neuron,activation = activation))\n",
    "                \n",
    "        self.model.compile(loss=loss,optimizer=optimizer)\n",
    "        \n",
    "        \n",
    "class OutputObserver(Callback):\n",
    "\n",
    "    def __init__(self, train,test,batch):\n",
    "        self.out_log = []\n",
    "        self.out_log2 = []\n",
    "        self.train = train\n",
    "        self.test = test\n",
    "        self.batch = batch\n",
    "\n",
    "    def on_epoch_end(self, epoch, logs={}):\n",
    "        self.out_log.append(self.model.predict(self.train, batch_size=self.batch))\n",
    "        self.out_log2.append(self.model.predict(self.test, batch_size=self.batch))"
   ]
  },
  {
   "cell_type": "markdown",
   "metadata": {},
   "source": [
    "## Data Import\n",
    "    \n",
    "This window allows you to import ticker information for any period of time. It then allows you to split the data into training and validation, as well as window periods. Specifically, the arguments allowed for are:\n",
    "\n",
    "    - Ticker     : This is the symbol you wish to download data for, e.g. AAPL\n",
    "    - start      : This is the first date for the ticker\n",
    "    - end        : This is the end date of the ticker\n",
    "    - window     : Which period do you wish to use to predict? For example, the opening price 7,30 and 60 days ago\n",
    "    - validation : How many days to you wish to set aside as a validation set?\n",
    "\n",
    "Please enter the arguments required, in the format shown below, in order to download and import the required data."
   ]
  },
  {
   "cell_type": "code",
   "execution_count": 3,
   "metadata": {},
   "outputs": [
    {
     "data": {
      "application/vnd.jupyter.widget-view+json": {
       "model_id": "68e3eabc1df84a46beda7c603e910e62",
       "version_major": 2,
       "version_minor": 0
      },
      "text/plain": [
       "interactive(children=(Text(value='AAPL', description='ticker_in'), Text(value='2012-04-04', description='start…"
      ]
     },
     "metadata": {},
     "output_type": "display_data"
    },
    {
     "data": {
      "application/vnd.jupyter.widget-view+json": {
       "model_id": "45c14246d8164e22af4e1b664d2f2323",
       "version_major": 2,
       "version_minor": 0
      },
      "text/plain": [
       "interactive(children=(Button(description='Run Interact', style=ButtonStyle()), Output()), _dom_classes=('widge…"
      ]
     },
     "metadata": {},
     "output_type": "display_data"
    },
    {
     "data": {
      "text/plain": [
       "<function __main__.data_build()>"
      ]
     },
     "execution_count": 3,
     "metadata": {},
     "output_type": "execute_result"
    }
   ],
   "source": [
    "#nbi:hide_in\n",
    "ticker = ''\n",
    "start = ''\n",
    "end = ''\n",
    "windows = ''\n",
    "validation = ''\n",
    "\n",
    "#This stores variables for data extract\n",
    "def data_store(ticker_in = 'NA',start_in = 'NA',end_in = 'NA', window = 'NA', valid = 'NA'):\n",
    "    \n",
    "    global ticker\n",
    "    global start\n",
    "    global end\n",
    "    global windows\n",
    "    global validation\n",
    "    \n",
    "\n",
    "    ticker = ticker_in\n",
    "    start = start_in\n",
    "    end  = end_in\n",
    "    windows = list(map(int,window.split(',')))\n",
    "    validation = int(valid)\n",
    "\n",
    "\n",
    "#This extracts the data\n",
    "def data_build():\n",
    "    \n",
    "    global data\n",
    "\n",
    "    #we create the data model\n",
    "    data = Data(ticker,start,end)\n",
    "    data.window(windows,'Open')\n",
    "    data.split_data(validation)\n",
    "    #we plot the training and test\n",
    "    mp.figure(1)\n",
    "    mp.plot(data.train_response)\n",
    "    mp.plot(data.test_response)\n",
    "    mp.title('Train and Validation Split')\n",
    "    \n",
    "    #we plot the windowed data\n",
    "    mp.figure(2)\n",
    "    mp.plot(data.train_features)\n",
    "    mp.title('Training windowed data')\n",
    "\n",
    "\n",
    "interact(data_store,ticker_in ='AAPL',start_in ='2012-04-04',end_in ='2016-04-04',window='30,60,90',valid='90')\n",
    "interact_manual(data_build)"
   ]
  },
  {
   "cell_type": "markdown",
   "metadata": {},
   "source": [
    "## Neural Network Builder\n",
    "\n",
    "This section allows you to build a simple, dense layer neural network on the above loaded data. Specifically, it allows you control over the following parameters:\n",
    "\n",
    "    - Neurons     : How many layers, and how many neurons per layer? Please note there should be 1 neuron in the final layer\n",
    "    - Activations : Which activation function will each layer use?\n",
    "    - Epochs      : How many epochs will the model run for?\n",
    "    - Batch size  : What is the batch size of the model?\n",
    "    - Verbose     : Should the model output interim results? 1 is true, 0 is false.\n",
    "    - EarlyStop   : Should the model stop when validation error is optimized?\n",
    "    \n",
    "It's easier than it looks! Have fun!"
   ]
  },
  {
   "cell_type": "code",
   "execution_count": 4,
   "metadata": {},
   "outputs": [
    {
     "data": {
      "application/vnd.jupyter.widget-view+json": {
       "model_id": "7520f00c3255458b996e0977856c9b14",
       "version_major": 2,
       "version_minor": 0
      },
      "text/plain": [
       "interactive(children=(Text(value='50,50,30,30,1', description='neurons'), Text(value='sigmoid,linear,sigmoid,l…"
      ]
     },
     "metadata": {},
     "output_type": "display_data"
    },
    {
     "data": {
      "application/vnd.jupyter.widget-view+json": {
       "model_id": "03bdf853b00e42d4bcd6e21937c0289e",
       "version_major": 2,
       "version_minor": 0
      },
      "text/plain": [
       "interactive(children=(Button(description='Run Interact', style=ButtonStyle()), Output()), _dom_classes=('widge…"
      ]
     },
     "metadata": {},
     "output_type": "display_data"
    },
    {
     "data": {
      "text/plain": [
       "<function __main__.neural_network_build()>"
      ]
     },
     "execution_count": 4,
     "metadata": {},
     "output_type": "execute_result"
    }
   ],
   "source": [
    "#nbi:hide_in\n",
    "limit  = 100\n",
    "neuron_array = ''\n",
    "activation_array =''\n",
    "epochs = ''\n",
    "batch_size =''\n",
    "verbose = ''\n",
    "earlystop = ''\n",
    "network = ''\n",
    "history = ''\n",
    "Log = ''\n",
    "\n",
    "def neural_network_store(neurons,activations,epoch_in,batch_size_in,verbose_in,early_stop):\n",
    "    global  neuron_array \n",
    "    global  activation_array \n",
    "    global  epochs\n",
    "    global  limit\n",
    "    global  batch_size \n",
    "    global  verbose\n",
    "    global  earlystop\n",
    "    \n",
    "    #organize inputs\n",
    "    try:\n",
    "        neuron_array = list(map(int,neurons.split(',')))\n",
    "    except:\n",
    "        pass\n",
    "\n",
    "    try:\n",
    "        activation_array = activations.split(',')\n",
    "    except:\n",
    "        pass\n",
    "\n",
    "    try:\n",
    "        epochs = int(epoch_in)\n",
    "        limit = epochs\n",
    "    except:\n",
    "        pass\n",
    "\n",
    "    try:\n",
    "        batch_size = int(batch_size_in)\n",
    "    except:\n",
    "        pass\n",
    "\n",
    "    try:\n",
    "        verbose = int(verbose_in)\n",
    "    except:\n",
    "        pass\n",
    "\n",
    "    try:\n",
    "        earlystop = early_stop\n",
    "    except:\n",
    "        pass\n",
    "    \n",
    "def neural_network_build():\n",
    "    global network\n",
    "    global history\n",
    "    global limit\n",
    "    global Log\n",
    "    global Stop\n",
    "    global epochs\n",
    "    \n",
    "    network = NN(neuron_array,activation_array)\n",
    "    network.create_model(dim=data.train_features.shape[1],loss='mse',optimizer='adam')\n",
    "    Stop = EarlyStopping(monitor='val_loss', min_delta=0.0001, patience=50, verbose=1, mode='auto', baseline=None)\n",
    "    Log  = OutputObserver(train = data.train_features,test = data.test_features, batch = batch_size)\n",
    "\n",
    "    if earlystop == True:\n",
    "        history = network.model.fit(data.train_features,data.train_response.loc[:,'Open'],epochs=epochs,batch_size=batch_size,verbose=verbose,callbacks=[Stop,Log],validation_data = (data.test_features,data.test_response.loc[:,'Open']))\n",
    "    else:\n",
    "        history = network.model.fit(data.train_features,data.train_response.loc[:,'Open'],epochs=epochs,batch_size=batch_size,verbose=verbose,callbacks=[Log],validation_data = (data.test_features,data.test_response.loc[:,'Open']))\n",
    "        \n",
    "    #we plot the training and test\n",
    "    mp.figure(1)\n",
    "    mp.plot(data.train_response.index,network.model.predict(data.train_features))\n",
    "    mp.plot(data.train_response)\n",
    "    mp.title('Training and Prediction')\n",
    "    \n",
    "    #we plot the training and test\n",
    "    mp.figure(2)\n",
    "    mp.plot(data.test_response.index,network.model.predict(data.test_features))\n",
    "    mp.plot(data.test_response)\n",
    "    mp.title('Validation and Prediction')\n",
    "    \n",
    "    #we plot the training and test\n",
    "    mp.figure(3)\n",
    "    mp.plot(history.history['val_loss'])\n",
    "    mp.plot(history.history['loss'])\n",
    "    mp.title('Training and Validation Error')\n",
    "    \n",
    "    limit = (np.array(Log.out_log)).shape[0]\n",
    "    \n",
    "\n",
    "interact(neural_network_store,neurons ='50,50,30,30,1',activations = 'sigmoid,linear,sigmoid,linear,linear',epoch_in = '1000',batch_size_in ='50',verbose_in = '0',early_stop = True)\n",
    "interact_manual(neural_network_build)\n"
   ]
  },
  {
   "cell_type": "markdown",
   "metadata": {},
   "source": [
    "## Performance over the time\n",
    "The following section allows you to observe the performance of your network as a function of the training epoch. Click the button to cycle through all epochs:\n",
    "\n",
    "### Training performance"
   ]
  },
  {
   "cell_type": "code",
   "execution_count": 46,
   "metadata": {},
   "outputs": [
    {
     "data": {
      "application/vnd.jupyter.widget-view+json": {
       "model_id": "27b32e5b92a7432a8ca3c8cea403f375",
       "version_major": 2,
       "version_minor": 0
      },
      "text/plain": [
       "interactive(children=(Button(description='Run Interact', style=ButtonStyle()), Output()), _dom_classes=('widge…"
      ]
     },
     "metadata": {},
     "output_type": "display_data"
    },
    {
     "data": {
      "text/plain": [
       "<function __main__.plot_performance()>"
      ]
     },
     "execution_count": 46,
     "metadata": {},
     "output_type": "execute_result"
    }
   ],
   "source": [
    "#nbi:hide_in\n",
    "def plot_performance():\n",
    "  \n",
    "    try:\n",
    "        fig = mp.figure()\n",
    "        ax  = fig.add_subplot(111)\n",
    "\n",
    "        for i in range(0,np.array(Log.out_log).shape[0]-1):\n",
    "            if i == 0:\n",
    "                line1, = ax.plot(data.train_response.index,np.array(Log.out_log)[i], 'r-')\n",
    "                line2, = ax.plot(data.train_response.index,data.train_response, 'b-')\n",
    "                mp.title('Training and Prediction')\n",
    "                fig.canvas.draw()\n",
    "                fig.canvas.flush_events()\n",
    "            else:\n",
    "                mp.pause(1)\n",
    "                line1.set_ydata = np.array(Log.out_log)[i]\n",
    "                fig.canvas.draw()\n",
    "                fig.canvas.flush_events()\n",
    "    except:\n",
    "        pass\n",
    "            \n",
    "interact_manual(plot_performance)"
   ]
  },
  {
   "cell_type": "code",
   "execution_count": null,
   "metadata": {},
   "outputs": [
    {
     "data": {
      "image/png": "[encoded data removed]",
      "text/plain": [
       "<Figure size 432x288 with 1 Axes>"
      ]
     },
     "metadata": {},
     "output_type": "display_data"
    }
   ],
   "source": [
    "import pylab as pl\n",
    "from IPython import display\n",
    "\n",
    "for i in range(10):\n",
    "    mp.plot(pl.randn(100))\n",
    "    display.clear_output(wait=True)\n",
    "    display.display(pl.gcf())\n",
    "    time.sleep(1.0)"
   ]
  },
  {
   "cell_type": "code",
   "execution_count": 29,
   "metadata": {},
   "outputs": [
    {
     "data": {
      "image/png": "[encoded data removed]",
      "text/plain": [
       "<Figure size 432x288 with 1 Axes>"
      ]
     },
     "metadata": {},
     "output_type": "display_data"
    }
   ],
   "source": [
    "a = mp.figure(1)\n",
    "mp.plot(data.train_response.index,data.train_response+1)\n",
    "mp.plot(data.train_response.index,data.train_response+10)\n",
    "mp.title('Training and Prediction')\n",
    "mp.pause(0.01)\n",
    "mp.clf()\n",
    "mp.cla()\n",
    "mp.close()"
   ]
  },
  {
   "cell_type": "markdown",
   "metadata": {},
   "source": [
    "### Test performance"
   ]
  },
  {
   "cell_type": "code",
   "execution_count": 5,
   "metadata": {},
   "outputs": [
    {
     "data": {
      "application/vnd.jupyter.widget-view+json": {
       "model_id": "fc937246cf5e4a8a9657c8eb837b58e0",
       "version_major": 2,
       "version_minor": 0
      },
      "text/plain": [
       "interactive(children=(Button(description='Run Interact', style=ButtonStyle()), Output()), _dom_classes=('widge…"
      ]
     },
     "metadata": {},
     "output_type": "display_data"
    },
    {
     "data": {
      "text/plain": [
       "<function __main__.plot_performance_2()>"
      ]
     },
     "execution_count": 5,
     "metadata": {},
     "output_type": "execute_result"
    }
   ],
   "source": [
    "#nbi:hide_in\n",
    "def plot_performance_2():\n",
    "  \n",
    "    try:\n",
    "        for i in range(0,np.array(Log.out_log).shape[0]-1):\n",
    "            mp.figure(1)\n",
    "            mp.plot(data.test_response.index,np.array(Log.out2_log)[i])\n",
    "            mp.plot(data.test_response.index,data.test_response)\n",
    "            mp.title('Test and Prediction')\n",
    "            mp.pause(1)\n",
    "    except:\n",
    "        pass\n",
    "            \n",
    "interact_manual(plot_performance_2)"
   ]
  }
 ],
 "metadata": {
  "kernelspec": {
   "display_name": "Python 3",
   "language": "python",
   "name": "python3"
  },
  "language_info": {
   "codemirror_mode": {
    "name": "ipython",
    "version": 3
   },
   "file_extension": ".py",
   "mimetype": "text/x-python",
   "name": "python",
   "nbconvert_exporter": "python",
   "pygments_lexer": "ipython3",
   "version": "3.6.5"
  }
 },
 "nbformat": 4,
 "nbformat_minor": 2
}
